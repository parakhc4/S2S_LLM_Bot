{
 "cells": [
  {
   "cell_type": "code",
   "execution_count": null,
   "metadata": {},
   "outputs": [],
   "source": [
    "import speech_recognition as sr\n",
    "import pyaudio\n",
    "import os\n",
    "from openai import OpenAI\n",
    "\n",
    "recognizer = sr.Recognizer()\n",
    "\n",
    "def speech_to_text():\n",
    "    with sr.Microphone() as source:\n",
    "        print(\"Adjusting for ambient noise...\")\n",
    "        recognizer.adjust_for_ambient_noise(source, duration=1) \n",
    "        print(\"Please speak...\")\n",
    "        try:\n",
    "            audio_data = recognizer.listen(source, timeout=5) \n",
    "            print(\"Recognizing with PocketSphinx...\")\n",
    "            text = recognizer.recognize_sphinx(audio_data)\n",
    "            print(\"Recognized Text: \" + text)\n",
    "        except sr.UnknownValueError:\n",
    "            print(\"Could not understand the audio.\")\n",
    "        except Exception as e:\n",
    "            print(f\"Error: {e}\")\n",
    "        return text\n"
   ]
  },
  {
   "cell_type": "code",
   "execution_count": null,
   "metadata": {},
   "outputs": [],
   "source": [
    "def text_to_meaning(input):\n",
    "    monster_api_key = os.getenv('MONSTER_API_KEY')\n",
    "\n",
    "    generation_model_name: str\n",
    "    temperature: float = 0.9\n",
    "    top_p = 0.9\n",
    "    max_tokens: int = 2048\n",
    "    stream: bool = False  \n",
    "    llm_name: str = \"Meta-Llama\"\n",
    "\n",
    "    monster_client = OpenAI(\n",
    "        base_url=\"https://llm.monsterapi.ai/v1/\",\n",
    "        api_key=monster_api_key\n",
    "    )\n",
    "\n",
    "    monster_ai_model_name = {\n",
    "        \"Google-Gemma\": \"google/gemma-2-9b-it\",\n",
    "        \"Mistral\": \"mistralai/Mistral-7B-Instruct-v0.2\",\n",
    "        \"Microsoft-Phi\": \"microsoft/Phi-3-mini-4k-instruct\",\n",
    "        \"Meta-Llama\": \"meta-llama/Meta-Llama-3.1-8B-Instruct\",\n",
    "    }\n",
    "    message = [\n",
    "                {\"role\": \"system\", \"content\": \"You are an AI assistant. Kindly answer the following question:\"},\n",
    "                {\"role\": \"user\", \"content\": input}\n",
    "            ]\n",
    "\n",
    "    response = monster_client.chat.completions.create( model=monster_ai_model_name[llm_name], messages=message, temperature=temperature, top_p=top_p, max_tokens=max_tokens, stream=False)\n",
    "    return (response.choices[0].message.content)"
   ]
  },
  {
   "cell_type": "code",
   "execution_count": null,
   "metadata": {},
   "outputs": [],
   "source": [
    "# orchestrator\n",
    "\n",
    "input_text = speech_to_text()\n",
    "output_text = text_to_meaning(input_text)\n"
   ]
  }
 ],
 "metadata": {
  "kernelspec": {
   "display_name": "chaenv",
   "language": "python",
   "name": "python3"
  },
  "language_info": {
   "codemirror_mode": {
    "name": "ipython",
    "version": 3
   },
   "file_extension": ".py",
   "mimetype": "text/x-python",
   "name": "python",
   "nbconvert_exporter": "python",
   "pygments_lexer": "ipython3",
   "version": "3.11.7"
  }
 },
 "nbformat": 4,
 "nbformat_minor": 2
}
