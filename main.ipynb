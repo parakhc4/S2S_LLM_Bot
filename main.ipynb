{
 "cells": [
  {
   "cell_type": "code",
   "execution_count": null,
   "metadata": {},
   "outputs": [
    {
     "name": "stdout",
     "output_type": "stream",
     "text": [
      "Adjusting for ambient noise...\n",
      "Please speak...\n",
      "Recognizing with PocketSphinx...\n",
      "Recognized Text: really going to really going to\n"
     ]
    }
   ],
   "source": [
    "import speech_recognition as sr\n",
    "import pyaudio\n",
    "\n",
    "recognizer = sr.Recognizer()\n",
    "\n",
    "def speech_to_text():\n",
    "    with sr.Microphone() as source:\n",
    "        print(\"Adjusting for ambient noise...\")\n",
    "        recognizer.adjust_for_ambient_noise(source, duration=1) \n",
    "        print(\"Please speak...\")\n",
    "        try:\n",
    "            audio_data = recognizer.listen(source, timeout=5) \n",
    "            print(\"Recognizing with PocketSphinx...\")\n",
    "            text = recognizer.recognize_sphinx(audio_data)\n",
    "            print(\"Recognized Text: \" + text)\n",
    "        except sr.UnknownValueError:\n",
    "            print(\"Could not understand the audio.\")\n",
    "        except Exception as e:\n",
    "            print(f\"Error: {e}\")\n",
    "        return text\n"
   ]
  },
  {
   "cell_type": "code",
   "execution_count": null,
   "metadata": {},
   "outputs": [],
   "source": [
    "generation_model_name: str\n",
    "temperature: float = 0.9\n",
    "top_p = 0.9\n",
    "max_tokens: int = 2048\n",
    "stream: bool = False  \n",
    "llm_name: str = \"Meta-Llama\"\n",
    "\n",
    "monster_client = OpenAI(\n",
    "    base_url=\"https://llm.monsterapi.ai/v1/\",\n",
    "    api_key=str(MONSTER_API_KEY)\n",
    ")\n",
    "\n",
    "monster_ai_model_name = {\n",
    "    \"Google-Gemma\": \"google/gemma-2-9b-it\",\n",
    "    \"Mistral\": \"mistralai/Mistral-7B-Instruct-v0.2\",\n",
    "    \"Microsoft-Phi\": \"microsoft/Phi-3-mini-4k-instruct\",\n",
    "    \"Meta-Llama\": \"meta-llama/Meta-Llama-3.1-8B-Instruct\",\n",
    "}\n",
    "message = [\n",
    "            {\"role\": \"system\", \"content\": \"You are an AI assistant skilled in summarizing complex medical reports. Strict instruction: Only summarise a report if it is a medical report. Otherwise, reply with 'Attached PDF is not a medical report'\"},\n",
    "            {\"role\": \"user\", \"content\": f\"Summarize the following medical report in simple terms. Focus on the key findings, diagnoses, and recommendations. Report text:\\n\\n{pdf_text}\"}\n",
    "        ]\n",
    "        response = monster_client.chat.completions.create( model=monster_ai_model_name[llm_name], messages=message, temperature=temperature, top_p=top_p, max_tokens=max_tokens, stream=False)"
   ]
  },
  {
   "cell_type": "code",
   "execution_count": null,
   "metadata": {},
   "outputs": [],
   "source": [
    "# orchestrator\n",
    "\n",
    "input_text = speech_to_text\n",
    "output_text = "
   ]
  }
 ],
 "metadata": {
  "kernelspec": {
   "display_name": "chaenv",
   "language": "python",
   "name": "python3"
  },
  "language_info": {
   "codemirror_mode": {
    "name": "ipython",
    "version": 3
   },
   "file_extension": ".py",
   "mimetype": "text/x-python",
   "name": "python",
   "nbconvert_exporter": "python",
   "pygments_lexer": "ipython3",
   "version": "3.11.7"
  }
 },
 "nbformat": 4,
 "nbformat_minor": 2
}
