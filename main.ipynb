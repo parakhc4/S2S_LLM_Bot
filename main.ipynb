{
 "cells": [
  {
   "cell_type": "code",
   "execution_count": 11,
   "metadata": {},
   "outputs": [
    {
     "name": "stderr",
     "output_type": "stream",
     "text": [
      "/Users/parakhchaudhary/opt/anaconda3/envs/chaenv/lib/python3.11/site-packages/tqdm/auto.py:21: TqdmWarning: IProgress not found. Please update jupyter and ipywidgets. See https://ipywidgets.readthedocs.io/en/stable/user_install.html\n",
      "  from .autonotebook import tqdm as notebook_tqdm\n"
     ]
    }
   ],
   "source": [
    "import speech_recognition as sr\n",
    "import pyaudio\n",
    "import os\n",
    "from openai import OpenAI\n",
    "from gtts import gTTS\n",
    "import pygame\n",
    "import gradio as gr"
   ]
  },
  {
   "cell_type": "markdown",
   "metadata": {},
   "source": [
    "Speech Recognition"
   ]
  },
  {
   "cell_type": "code",
   "execution_count": 12,
   "metadata": {},
   "outputs": [],
   "source": [
    "\n",
    "recognizer = sr.Recognizer()\n",
    "\n",
    "def speech_to_text():\n",
    "    with sr.Microphone() as source:\n",
    "        print(\"Adjusting for ambient noise...\")\n",
    "        recognizer.adjust_for_ambient_noise(source, duration=1) \n",
    "        print(\"Please speak...\")\n",
    "        try:\n",
    "            audio_data = recognizer.listen(source, timeout=5) \n",
    "            print(\"Recognizing with PocketSphinx...\")\n",
    "            text = recognizer.recognize_sphinx(audio_data)\n",
    "            print(\"Recognized Text: \" + text)\n",
    "        except sr.UnknownValueError:\n",
    "            print(\"Could not understand the audio.\")\n",
    "        except Exception as e:\n",
    "            print(f\"Error: {e}\")\n",
    "        return text\n"
   ]
  },
  {
   "cell_type": "markdown",
   "metadata": {},
   "source": [
    "LLM"
   ]
  },
  {
   "cell_type": "code",
   "execution_count": 13,
   "metadata": {},
   "outputs": [],
   "source": [
    "def text_to_meaning(input):\n",
    "    monster_api_key = os.getenv('MONSTER_API_KEY')\n",
    "\n",
    "    generation_model_name: str\n",
    "    temperature: float = 0.9\n",
    "    top_p = 0.9\n",
    "    max_tokens: int = 2048\n",
    "    stream: bool = False  \n",
    "    llm_name: str = \"Meta-Llama\"\n",
    "\n",
    "    monster_client = OpenAI(\n",
    "        base_url=\"https://llm.monsterapi.ai/v1/\",\n",
    "        api_key=monster_api_key\n",
    "    )\n",
    "\n",
    "    monster_ai_model_name = {\n",
    "        \"Google-Gemma\": \"google/gemma-2-9b-it\",\n",
    "        \"Mistral\": \"mistralai/Mistral-7B-Instruct-v0.2\",\n",
    "        \"Microsoft-Phi\": \"microsoft/Phi-3-mini-4k-instruct\",\n",
    "        \"Meta-Llama\": \"meta-llama/Meta-Llama-3.1-8B-Instruct\",\n",
    "    }\n",
    "    message = [\n",
    "                {\"role\": \"system\", \"content\": \"You are an AI assistant. Kindly answer the following question:\"},\n",
    "                {\"role\": \"user\", \"content\": input}\n",
    "            ]\n",
    "\n",
    "    response = monster_client.chat.completions.create( model=monster_ai_model_name[llm_name], messages=message, temperature=temperature, top_p=top_p, max_tokens=max_tokens, stream=False)\n",
    "    return (response.choices[0].message.content)"
   ]
  },
  {
   "cell_type": "markdown",
   "metadata": {},
   "source": [
    "Text to Speech"
   ]
  },
  {
   "cell_type": "code",
   "execution_count": 14,
   "metadata": {},
   "outputs": [],
   "source": [
    "def speak_output(output):\n",
    "    language = \"en\"\n",
    "    myobj = gTTS(text=output,lang = language,slow = False)\n",
    "    myobj.save(\"welcome.mp3\")\n",
    "    pygame.mixer.init()\n",
    "    pygame.mixer.music.load(\"welcome.mp3\")\n",
    "    pygame.mixer.music.play()"
   ]
  },
  {
   "cell_type": "markdown",
   "metadata": {},
   "source": [
    "Main Function"
   ]
  },
  {
   "cell_type": "code",
   "execution_count": 16,
   "metadata": {},
   "outputs": [
    {
     "name": "stdout",
     "output_type": "stream",
     "text": [
      "Adjusting for ambient noise...\n",
      "Please speak...\n",
      "Recognizing with PocketSphinx...\n",
      "Recognized Text: hello\n",
      "Running on local URL:  http://127.0.0.1:7860\n",
      "\n",
      "To create a public link, set `share=True` in `launch()`.\n"
     ]
    },
    {
     "data": {
      "text/html": [
       "<div><iframe src=\"http://127.0.0.1:7860/\" width=\"100%\" height=\"500\" allow=\"autoplay; camera; microphone; clipboard-read; clipboard-write;\" frameborder=\"0\" allowfullscreen></iframe></div>"
      ],
      "text/plain": [
       "<IPython.core.display.HTML object>"
      ]
     },
     "metadata": {},
     "output_type": "display_data"
    },
    {
     "data": {
      "text/plain": []
     },
     "execution_count": 16,
     "metadata": {},
     "output_type": "execute_result"
    },
    {
     "name": "stdout",
     "output_type": "stream",
     "text": [
      "IMPORTANT: You are using gradio version 4.16.0, however version 4.44.1 is available, please upgrade.\n",
      "--------\n",
      "Adjusting for ambient noise...\n",
      "Please speak...\n",
      "Recognizing with PocketSphinx...\n",
      "Recognized Text: plenty misspoke\n"
     ]
    }
   ],
   "source": [
    "# orchestrator\n",
    "\n",
    "input_text = speech_to_text()\n",
    "# input_text = \"Whats full form of AI\"\n",
    "output_text = text_to_meaning(input_text)\n",
    "# speak_output(output_text)\n",
    "\n",
    "with gr.Blocks(theme=gr.themes.Glass()) as interface:\n",
    "    gr.Markdown(\"## Speech 2 Speech LLM Application\")\n",
    "    gr.Markdown(\"_Developed for Tensorgo_\")\n",
    "    \n",
    "    with gr.Tab(\"🎤 Ask Your Question\"):\n",
    "        input_button = gr.Button(\"🎙️ Start Listening\")\n",
    "        output_textbox = gr.Textbox(label=\"AI Response\")\n",
    "        \n",
    "        input_button.click(\n",
    "            fn=lambda: text_to_meaning(speech_to_text()),\n",
    "            outputs=output_textbox,\n",
    "        )\n",
    "    \n",
    "    with gr.Tab(\"ℹ️ About\"):\n",
    "        gr.Markdown(\"This application converts spoken questions into text, processes them using an LLM, and speaks the response back.\")\n",
    "        gr.Markdown(\"**Features:**\")\n",
    "        gr.Markdown(\"- Speech-to-Text Recognition\")\n",
    "        gr.Markdown(\"- Natural Language Processing with an LLM\")\n",
    "        gr.Markdown(\"- Text-to-Speech Audio Response\")\n",
    "    \n",
    "    with gr.Tab(\"⚙ Settings\"):\n",
    "        model_dropdown = gr.Dropdown(\n",
    "            label=\"Select AI Model\",\n",
    "            choices=[\"Google-Gemma\", \"Mistral\", \"Microsoft-Phi\", \"Meta-Llama\"],\n",
    "            value=\"Meta-Llama\",\n",
    "        )\n",
    "        gr.Markdown(\"Adjust settings as needed.\")\n",
    "    \n",
    "\n",
    "interface.launch()"
   ]
  }
 ],
 "metadata": {
  "kernelspec": {
   "display_name": "chaenv",
   "language": "python",
   "name": "python3"
  },
  "language_info": {
   "codemirror_mode": {
    "name": "ipython",
    "version": 3
   },
   "file_extension": ".py",
   "mimetype": "text/x-python",
   "name": "python",
   "nbconvert_exporter": "python",
   "pygments_lexer": "ipython3",
   "version": "3.11.7"
  }
 },
 "nbformat": 4,
 "nbformat_minor": 2
}
