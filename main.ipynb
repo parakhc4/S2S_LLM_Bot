{
 "cells": [
  {
   "cell_type": "code",
   "execution_count": 25,
   "metadata": {},
   "outputs": [
    {
     "name": "stdout",
     "output_type": "stream",
     "text": [
      "Adjusting for ambient noise...\n",
      "Please speak...\n",
      "Recognizing with PocketSphinx...\n",
      "Recognized Text: really going to really going to\n"
     ]
    }
   ],
   "source": [
    "import speech_recognition as sr\n",
    "import pyaudio\n",
    "\n",
    "recognizer = sr.Recognizer()\n",
    "\n",
    "# Noise reduction and recognition\n",
    "with sr.Microphone() as source:\n",
    "    print(\"Adjusting for ambient noise...\")\n",
    "    recognizer.adjust_for_ambient_noise(source, duration=1)  # Reduce noise\n",
    "    print(\"Please speak...\")\n",
    "    try:\n",
    "        audio_data = recognizer.listen(source, timeout=5)  # Timeout for better control\n",
    "        print(\"Recognizing with PocketSphinx...\")\n",
    "        text = recognizer.recognize_sphinx(audio_data)\n",
    "        print(\"Recognized Text: \" + text)\n",
    "    except sr.UnknownValueError:\n",
    "        print(\"Could not understand the audio.\")\n",
    "    except Exception as e:\n",
    "        print(f\"Error: {e}\")\n"
   ]
  }
 ],
 "metadata": {
  "kernelspec": {
   "display_name": "chaenv",
   "language": "python",
   "name": "python3"
  },
  "language_info": {
   "codemirror_mode": {
    "name": "ipython",
    "version": 3
   },
   "file_extension": ".py",
   "mimetype": "text/x-python",
   "name": "python",
   "nbconvert_exporter": "python",
   "pygments_lexer": "ipython3",
   "version": "3.11.7"
  }
 },
 "nbformat": 4,
 "nbformat_minor": 2
}
